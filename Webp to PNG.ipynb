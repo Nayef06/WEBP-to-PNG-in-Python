{
 "cells": [
  {
   "cell_type": "code",
   "execution_count": null,
   "id": "48d6b410-9d97-4cdb-af3c-0f325b002de2",
   "metadata": {},
   "outputs": [],
   "source": [
    "from PIL import Image\n",
    "import os\n",
    "\n",
    "def convert_webp_to_png(input_path, output_path=None):\n",
    "    # Check if file is a webp \n",
    "    if not input_path.lower().endswith('.webp'):\n",
    "        raise ValueError(\"Input file must be a .webp image.\")\n",
    "\n",
    "    # Open the webp\n",
    "    with Image.open(input_path) as img:\n",
    "        if output_path is None:\n",
    "            output_path = os.path.splitext(input_path)[0] + '.png'\n",
    "        \n",
    "        # Save image as .png\n",
    "        img.save(output_path, 'PNG')\n",
    "        print(f\"Image saved as {output_path}\")\n",
    "\n",
    "\n",
    "input_webp = input(\"what is the name of your file?\")\n",
    "convert_webp_to_png(f'{input_webp}.webp')\n"
   ]
  },
  {
   "cell_type": "code",
   "execution_count": null,
   "id": "ecf62d39-3af0-4e57-8ca5-3b5940077a34",
   "metadata": {},
   "outputs": [],
   "source": []
  }
 ],
 "metadata": {
  "kernelspec": {
   "display_name": "Python 3 (ipykernel)",
   "language": "python",
   "name": "python3"
  },
  "language_info": {
   "codemirror_mode": {
    "name": "ipython",
    "version": 3
   },
   "file_extension": ".py",
   "mimetype": "text/x-python",
   "name": "python",
   "nbconvert_exporter": "python",
   "pygments_lexer": "ipython3",
   "version": "3.11.9"
  }
 },
 "nbformat": 4,
 "nbformat_minor": 5
}
